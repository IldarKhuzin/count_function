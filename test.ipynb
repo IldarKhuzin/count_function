{
  "nbformat": 4,
  "nbformat_minor": 0,
  "metadata": {
    "colab": {
      "provenance": []
    },
    "kernelspec": {
      "name": "python3",
      "display_name": "Python 3"
    },
    "language_info": {
      "name": "python"
    }
  },
  "cells": [
    {
      "cell_type": "markdown",
      "source": [
        "функция подсчета количества человек в группах(нумерация начинается с \"0\")"
      ],
      "metadata": {
        "id": "vZ4FBOesFJ5E"
      }
    },
    {
      "cell_type": "code",
      "execution_count": 78,
      "metadata": {
        "id": "klzZVUhcFJAQ"
      },
      "outputs": [],
      "source": [
        "def count_group_zero (n_customers):\n",
        "  '''\n",
        "  функция принимает количество клиентов, суммирует их ID\n",
        "  и выдает список количества клиентов в каждой группе\n",
        "  '''\n",
        "  customers = [0]                               #  создаем список с нулем под нулевым индексом\n",
        "  for i in range(n_customers+1):                #  пробегаем по списку клиентов\n",
        "    sum = 0\n",
        "    while (i != 0):                             #  пока цифры не кончились\n",
        "      sum = sum + i % 10                        #  приплюсовываем к переменной sum последнюю цифру\n",
        "      i = i // 10                               #  меняем переменную как остаток деления на 10(удаляем последнюю цифру)\n",
        "    if len(customers) <= sum:                   #  проверяем длину массива \n",
        "      customers.append(0)                       #  и увеличиваем длину на один элемент, если её не хватает\n",
        "    customers[sum] = customers[sum]+1           #  увеличиваем количество клиентов в данной группе(по данному индексу) на единицу\n",
        "  return customers                              #  возвращаем список количества клиентов в каждой группе"
      ]
    },
    {
      "cell_type": "code",
      "source": [
        "count_group_zero(300)"
      ],
      "metadata": {
        "colab": {
          "base_uri": "https://localhost:8080/"
        },
        "id": "YbzYGJhsIaP1",
        "outputId": "78c54a54-705b-40ab-a456-985bc783724a"
      },
      "execution_count": 87,
      "outputs": [
        {
          "output_type": "execute_result",
          "data": {
            "text/plain": [
              "[1, 3, 6, 10, 12, 15, 18, 21, 24, 27, 28, 27, 24, 21, 18, 15, 12, 9, 6, 3, 1]"
            ]
          },
          "metadata": {},
          "execution_count": 87
        }
      ]
    },
    {
      "cell_type": "markdown",
      "source": [
        "\n",
        "функция подсчета количества человек в группах(нумерация начинается с произвольного числа)"
      ],
      "metadata": {
        "id": "kPdKbuTUN69k"
      }
    },
    {
      "cell_type": "code",
      "source": [
        "def count_group_rand (n_customers,n_first_id):\n",
        "  '''\n",
        "  функция принимает количество клиентов, стартовый индекс, суммирует ID \n",
        "  клиентов, начиная со стартового\n",
        "  и выдает список количества клиентов в каждой группе\n",
        "  '''\n",
        "  customers = [0]*75                                      # учитывая длину индекса не более 8 знаков создаю список из 75 нулей( 8*9=72 - максимальный индекс)\n",
        "  for i in range(n_first_id, n_first_id+n_customers+1):   # пробегаем по всем индексам\n",
        "    sum = 0\n",
        "    while (i != 0):                                       # пока цифры не кончились\n",
        "      sum = sum + i % 10                                  #  приплюсовываем к переменной sum последнюю цифру\n",
        "      i = i // 10                                         #  меняем переменную как остаток деления на 10(удаляем последнюю цифру)\n",
        "\n",
        "    customers[sum] = customers[sum]+1                     # увеличиваем количество клиентов в данной группе(по данному индексу) на единицу\n",
        "  return customers                                        # возвращаем список количества клиентов в каждой группе"
      ],
      "metadata": {
        "id": "sQhPgAkiODEb"
      },
      "execution_count": 80,
      "outputs": []
    },
    {
      "cell_type": "code",
      "source": [
        "count_group_rand(25000, 3894386)"
      ],
      "metadata": {
        "colab": {
          "base_uri": "https://localhost:8080/"
        },
        "id": "eqoeGcPfQMoN",
        "outputId": "4418badc-2442-4855-8b84-1643ff64220c"
      },
      "execution_count": 81,
      "outputs": [
        {
          "output_type": "execute_result",
          "data": {
            "text/plain": [
              "[0,\n",
              " 0,\n",
              " 0,\n",
              " 0,\n",
              " 0,\n",
              " 0,\n",
              " 0,\n",
              " 0,\n",
              " 0,\n",
              " 0,\n",
              " 0,\n",
              " 0,\n",
              " 1,\n",
              " 5,\n",
              " 14,\n",
              " 30,\n",
              " 55,\n",
              " 91,\n",
              " 140,\n",
              " 204,\n",
              " 285,\n",
              " 385,\n",
              " 502,\n",
              " 630,\n",
              " 763,\n",
              " 896,\n",
              " 1023,\n",
              " 1139,\n",
              " 1240,\n",
              " 1321,\n",
              " 1376,\n",
              " 1399,\n",
              " 1391,\n",
              " 1358,\n",
              " 1304,\n",
              " 1234,\n",
              " 1153,\n",
              " 1062,\n",
              " 963,\n",
              " 859,\n",
              " 755,\n",
              " 660,\n",
              " 571,\n",
              " 488,\n",
              " 410,\n",
              " 336,\n",
              " 268,\n",
              " 208,\n",
              " 157,\n",
              " 116,\n",
              " 83,\n",
              " 56,\n",
              " 35,\n",
              " 20,\n",
              " 10,\n",
              " 4,\n",
              " 1,\n",
              " 0,\n",
              " 0,\n",
              " 0,\n",
              " 0,\n",
              " 0,\n",
              " 0,\n",
              " 0,\n",
              " 0,\n",
              " 0,\n",
              " 0,\n",
              " 0,\n",
              " 0,\n",
              " 0,\n",
              " 0,\n",
              " 0,\n",
              " 0,\n",
              " 0,\n",
              " 0]"
            ]
          },
          "metadata": {},
          "execution_count": 81
        }
      ]
    }
  ]
}